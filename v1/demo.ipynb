{
  "nbformat": 4,
  "nbformat_minor": 0,
  "metadata": {
    "colab": {
      "name": "BlockChain-Intro.ipynb",
      "provenance": [],
      "collapsed_sections": [],
      "authorship_tag": "ABX9TyOcZYveCbaXQBV8JmllV1+z",
      "include_colab_link": true
    },
    "kernelspec": {
      "name": "python3",
      "display_name": "Python 3"
    },
    "language_info": {
      "name": "python"
    }
  },
  "cells": [
    {
      "cell_type": "markdown",
      "metadata": {
        "id": "view-in-github",
        "colab_type": "text"
      },
      "source": [
        "<a href=\"https://colab.research.google.com/github/mohsin-riad/Blockchain-Intro/blob/main/v1/demo.ipynb\" target=\"_parent\"><img src=\"https://colab.research.google.com/assets/colab-badge.svg\" alt=\"Open In Colab\"/></a>"
      ]
    },
    {
      "cell_type": "code",
      "metadata": {
        "colab": {
          "base_uri": "https://localhost:8080/"
        },
        "id": "CM1kSbKDXvHK",
        "outputId": "8eb3327d-91a1-4cc4-9bb2-409eb5f294c9"
      },
      "source": [
        "import hashlib\n",
        "\n",
        "t1 = \"Srabosty sends 2 BTC to Mohsin\"\n",
        "t2 = \"Minhaz sends 3.2 BTC to Mohsin\"\n",
        "t3 = \"Ekram sends 5.2 BTC to Mohsin\"\n",
        "t4 = \"Rakib sends 0.2 BTC to Mohsin\"\n",
        "t5 = \"Tonmoy sends 1.4 BTC to Mohsin\"\n",
        "t6 = \"Mike sends 2.2 BTC to Mohsin\"\n",
        "\n",
        "class NeuralCoinBlock:\n",
        "  def __init__(self, previous_block_hash, transaction_list):\n",
        "    self.previous_block_hash = previous_block_hash\n",
        "    self.transaction_list = transaction_list\n",
        "    self.block_data = \" -> \".join(transaction_list) + \" #\" + previous_block_hash\n",
        "    self.block_hash = hashlib.sha256(self.block_data.encode()).hexdigest()\n",
        "\n",
        "initial_block = NeuralCoinBlock(\"Initial Transaction\", [t1,t2])\n",
        "\n",
        "print(initial_block.block_data)\n",
        "print(\"transaction Hash [\"+initial_block.block_hash+\"]\")"
      ],
      "execution_count": 6,
      "outputs": [
        {
          "output_type": "stream",
          "text": [
            "Srabosty sends 2 BTC to Mohsin -> Minhaz sends 3.2 BTC to Mohsin #Initial Transaction\n",
            "transaction Hash [251eefd4635c83f2de93e76ecada1988934e4cf19c5a5df0f391f081e201a9f4]\n"
          ],
          "name": "stdout"
        }
      ]
    }
  ]
}